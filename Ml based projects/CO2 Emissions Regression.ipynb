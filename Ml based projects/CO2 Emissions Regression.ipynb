{
 "cells": [
  {
   "cell_type": "markdown",
   "metadata": {},
   "source": [
    "# Aim\n",
    "To find the amount of CO2 a vehivle emits based on various characteristics of the vehicle and to observe the how CO2 emissions vary with these parameters"
   ]
  },
  {
   "cell_type": "code",
   "execution_count": 1,
   "metadata": {},
   "outputs": [
    {
     "name": "stdout",
     "output_type": "stream",
     "text": [
      "Done\n"
     ]
    }
   ],
   "source": [
    "import numpy as np\n",
    "import pandas as pd\n",
    "import matplotlib.pyplot as plt\n",
    "import pylab as pl\n",
    "%matplotlib inline\n",
    "print(\"Done\")"
   ]
  },
  {
   "cell_type": "markdown",
   "metadata": {},
   "source": [
    "## The Data"
   ]
  },
  {
   "cell_type": "code",
   "execution_count": 2,
   "metadata": {},
   "outputs": [],
   "source": [
    "df = pd.read_csv(\"FCR_00to14.csv\",encoding='latin1')"
   ]
  },
  {
   "cell_type": "code",
   "execution_count": 3,
   "metadata": {},
   "outputs": [
    {
     "data": {
      "text/html": [
       "<div>\n",
       "<style scoped>\n",
       "    .dataframe tbody tr th:only-of-type {\n",
       "        vertical-align: middle;\n",
       "    }\n",
       "\n",
       "    .dataframe tbody tr th {\n",
       "        vertical-align: top;\n",
       "    }\n",
       "\n",
       "    .dataframe thead th {\n",
       "        text-align: right;\n",
       "    }\n",
       "</style>\n",
       "<table border=\"1\" class=\"dataframe\">\n",
       "  <thead>\n",
       "    <tr style=\"text-align: right;\">\n",
       "      <th></th>\n",
       "      <th>YEAR</th>\n",
       "      <th>MAKE</th>\n",
       "      <th>MODEL</th>\n",
       "      <th>VEHICLE CLASS</th>\n",
       "      <th>ENGINE SIZE (L)</th>\n",
       "      <th>CYLINDERS</th>\n",
       "      <th>TRANSMISSION</th>\n",
       "      <th>FUEL TYPE</th>\n",
       "      <th>CITY (L/100 km)</th>\n",
       "      <th>HWY (L/100 km)</th>\n",
       "      <th>COMB (L/100 km)</th>\n",
       "      <th>COMB (mpg)</th>\n",
       "      <th>CO2 EMISSIONS (g/km)</th>\n",
       "    </tr>\n",
       "  </thead>\n",
       "  <tbody>\n",
       "    <tr>\n",
       "      <th>0</th>\n",
       "      <td>2000</td>\n",
       "      <td>ACURA</td>\n",
       "      <td>1.6EL</td>\n",
       "      <td>COMPACT</td>\n",
       "      <td>1.6</td>\n",
       "      <td>4.0</td>\n",
       "      <td>A4</td>\n",
       "      <td>X</td>\n",
       "      <td>9.2</td>\n",
       "      <td>6.7</td>\n",
       "      <td>8.1</td>\n",
       "      <td>35.0</td>\n",
       "      <td>186.0</td>\n",
       "    </tr>\n",
       "    <tr>\n",
       "      <th>1</th>\n",
       "      <td>2000</td>\n",
       "      <td>ACURA</td>\n",
       "      <td>1.6EL</td>\n",
       "      <td>COMPACT</td>\n",
       "      <td>1.6</td>\n",
       "      <td>4.0</td>\n",
       "      <td>M5</td>\n",
       "      <td>X</td>\n",
       "      <td>8.5</td>\n",
       "      <td>6.5</td>\n",
       "      <td>7.6</td>\n",
       "      <td>37.0</td>\n",
       "      <td>175.0</td>\n",
       "    </tr>\n",
       "    <tr>\n",
       "      <th>2</th>\n",
       "      <td>2000</td>\n",
       "      <td>ACURA</td>\n",
       "      <td>3.2TL</td>\n",
       "      <td>MID-SIZE</td>\n",
       "      <td>3.2</td>\n",
       "      <td>6.0</td>\n",
       "      <td>AS5</td>\n",
       "      <td>Z</td>\n",
       "      <td>12.2</td>\n",
       "      <td>7.4</td>\n",
       "      <td>10.0</td>\n",
       "      <td>28.0</td>\n",
       "      <td>230.0</td>\n",
       "    </tr>\n",
       "    <tr>\n",
       "      <th>3</th>\n",
       "      <td>2000</td>\n",
       "      <td>ACURA</td>\n",
       "      <td>3.5RL</td>\n",
       "      <td>MID-SIZE</td>\n",
       "      <td>3.5</td>\n",
       "      <td>6.0</td>\n",
       "      <td>A4</td>\n",
       "      <td>Z</td>\n",
       "      <td>13.4</td>\n",
       "      <td>9.2</td>\n",
       "      <td>11.5</td>\n",
       "      <td>25.0</td>\n",
       "      <td>264.0</td>\n",
       "    </tr>\n",
       "    <tr>\n",
       "      <th>4</th>\n",
       "      <td>2000</td>\n",
       "      <td>ACURA</td>\n",
       "      <td>INTEGRA</td>\n",
       "      <td>SUBCOMPACT</td>\n",
       "      <td>1.8</td>\n",
       "      <td>4.0</td>\n",
       "      <td>A4</td>\n",
       "      <td>X</td>\n",
       "      <td>10.0</td>\n",
       "      <td>7.0</td>\n",
       "      <td>8.6</td>\n",
       "      <td>33.0</td>\n",
       "      <td>198.0</td>\n",
       "    </tr>\n",
       "  </tbody>\n",
       "</table>\n",
       "</div>"
      ],
      "text/plain": [
       "   YEAR   MAKE    MODEL VEHICLE CLASS  ENGINE SIZE (L)  CYLINDERS  \\\n",
       "0  2000  ACURA    1.6EL       COMPACT              1.6        4.0   \n",
       "1  2000  ACURA    1.6EL       COMPACT              1.6        4.0   \n",
       "2  2000  ACURA    3.2TL      MID-SIZE              3.2        6.0   \n",
       "3  2000  ACURA    3.5RL      MID-SIZE              3.5        6.0   \n",
       "4  2000  ACURA  INTEGRA    SUBCOMPACT              1.8        4.0   \n",
       "\n",
       "  TRANSMISSION FUEL TYPE  CITY (L/100 km)  HWY (L/100 km)  COMB (L/100 km)  \\\n",
       "0           A4         X              9.2             6.7              8.1   \n",
       "1           M5         X              8.5             6.5              7.6   \n",
       "2          AS5         Z             12.2             7.4             10.0   \n",
       "3           A4         Z             13.4             9.2             11.5   \n",
       "4           A4         X             10.0             7.0              8.6   \n",
       "\n",
       "   COMB (mpg)  CO2 EMISSIONS (g/km)  \n",
       "0        35.0                 186.0  \n",
       "1        37.0                 175.0  \n",
       "2        28.0                 230.0  \n",
       "3        25.0                 264.0  \n",
       "4        33.0                 198.0  "
      ]
     },
     "execution_count": 3,
     "metadata": {},
     "output_type": "execute_result"
    }
   ],
   "source": [
    "df.head()"
   ]
  },
  {
   "cell_type": "code",
   "execution_count": 4,
   "metadata": {},
   "outputs": [
    {
     "name": "stdout",
     "output_type": "stream",
     "text": [
      "(14274, 13)\n"
     ]
    },
    {
     "data": {
      "text/html": [
       "<div>\n",
       "<style scoped>\n",
       "    .dataframe tbody tr th:only-of-type {\n",
       "        vertical-align: middle;\n",
       "    }\n",
       "\n",
       "    .dataframe tbody tr th {\n",
       "        vertical-align: top;\n",
       "    }\n",
       "\n",
       "    .dataframe thead th {\n",
       "        text-align: right;\n",
       "    }\n",
       "</style>\n",
       "<table border=\"1\" class=\"dataframe\">\n",
       "  <thead>\n",
       "    <tr style=\"text-align: right;\">\n",
       "      <th></th>\n",
       "      <th>ENGINE SIZE (L)</th>\n",
       "      <th>CYLINDERS</th>\n",
       "      <th>CITY (L/100 km)</th>\n",
       "      <th>HWY (L/100 km)</th>\n",
       "      <th>COMB (L/100 km)</th>\n",
       "      <th>COMB (mpg)</th>\n",
       "      <th>CO2 EMISSIONS (g/km)</th>\n",
       "    </tr>\n",
       "  </thead>\n",
       "  <tbody>\n",
       "    <tr>\n",
       "      <th>count</th>\n",
       "      <td>14253.000000</td>\n",
       "      <td>14253.000000</td>\n",
       "      <td>14253.000000</td>\n",
       "      <td>14253.000000</td>\n",
       "      <td>14253.000000</td>\n",
       "      <td>14253.000000</td>\n",
       "      <td>14253.000000</td>\n",
       "    </tr>\n",
       "    <tr>\n",
       "      <th>mean</th>\n",
       "      <td>3.477850</td>\n",
       "      <td>5.991230</td>\n",
       "      <td>12.934456</td>\n",
       "      <td>8.831348</td>\n",
       "      <td>11.089637</td>\n",
       "      <td>27.285624</td>\n",
       "      <td>248.790149</td>\n",
       "    </tr>\n",
       "    <tr>\n",
       "      <th>std</th>\n",
       "      <td>1.311102</td>\n",
       "      <td>1.774154</td>\n",
       "      <td>3.541439</td>\n",
       "      <td>2.338169</td>\n",
       "      <td>2.969484</td>\n",
       "      <td>7.425910</td>\n",
       "      <td>59.077190</td>\n",
       "    </tr>\n",
       "    <tr>\n",
       "      <th>min</th>\n",
       "      <td>0.800000</td>\n",
       "      <td>2.000000</td>\n",
       "      <td>3.500000</td>\n",
       "      <td>3.200000</td>\n",
       "      <td>3.600000</td>\n",
       "      <td>11.000000</td>\n",
       "      <td>83.000000</td>\n",
       "    </tr>\n",
       "    <tr>\n",
       "      <th>25%</th>\n",
       "      <td>2.400000</td>\n",
       "      <td>4.000000</td>\n",
       "      <td>10.600000</td>\n",
       "      <td>7.200000</td>\n",
       "      <td>9.100000</td>\n",
       "      <td>22.000000</td>\n",
       "      <td>209.000000</td>\n",
       "    </tr>\n",
       "    <tr>\n",
       "      <th>50%</th>\n",
       "      <td>3.400000</td>\n",
       "      <td>6.000000</td>\n",
       "      <td>12.400000</td>\n",
       "      <td>8.300000</td>\n",
       "      <td>10.500000</td>\n",
       "      <td>27.000000</td>\n",
       "      <td>239.000000</td>\n",
       "    </tr>\n",
       "    <tr>\n",
       "      <th>75%</th>\n",
       "      <td>4.400000</td>\n",
       "      <td>8.000000</td>\n",
       "      <td>14.900000</td>\n",
       "      <td>10.200000</td>\n",
       "      <td>12.800000</td>\n",
       "      <td>31.000000</td>\n",
       "      <td>285.000000</td>\n",
       "    </tr>\n",
       "    <tr>\n",
       "      <th>max</th>\n",
       "      <td>8.400000</td>\n",
       "      <td>16.000000</td>\n",
       "      <td>30.600000</td>\n",
       "      <td>19.000000</td>\n",
       "      <td>24.800000</td>\n",
       "      <td>78.000000</td>\n",
       "      <td>570.000000</td>\n",
       "    </tr>\n",
       "  </tbody>\n",
       "</table>\n",
       "</div>"
      ],
      "text/plain": [
       "       ENGINE SIZE (L)     CYLINDERS  CITY (L/100 km)  HWY (L/100 km)  \\\n",
       "count     14253.000000  14253.000000     14253.000000    14253.000000   \n",
       "mean          3.477850      5.991230        12.934456        8.831348   \n",
       "std           1.311102      1.774154         3.541439        2.338169   \n",
       "min           0.800000      2.000000         3.500000        3.200000   \n",
       "25%           2.400000      4.000000        10.600000        7.200000   \n",
       "50%           3.400000      6.000000        12.400000        8.300000   \n",
       "75%           4.400000      8.000000        14.900000       10.200000   \n",
       "max           8.400000     16.000000        30.600000       19.000000   \n",
       "\n",
       "       COMB (L/100 km)    COMB (mpg)  CO2 EMISSIONS (g/km)  \n",
       "count     14253.000000  14253.000000          14253.000000  \n",
       "mean         11.089637     27.285624            248.790149  \n",
       "std           2.969484      7.425910             59.077190  \n",
       "min           3.600000     11.000000             83.000000  \n",
       "25%           9.100000     22.000000            209.000000  \n",
       "50%          10.500000     27.000000            239.000000  \n",
       "75%          12.800000     31.000000            285.000000  \n",
       "max          24.800000     78.000000            570.000000  "
      ]
     },
     "execution_count": 4,
     "metadata": {},
     "output_type": "execute_result"
    }
   ],
   "source": [
    "print(df.shape)\n",
    "df.describe()"
   ]
  },
  {
   "cell_type": "markdown",
   "metadata": {},
   "source": [
    "## Processing the Data"
   ]
  },
  {
   "cell_type": "code",
   "execution_count": 5,
   "metadata": {},
   "outputs": [
    {
     "data": {
      "text/html": [
       "<div>\n",
       "<style scoped>\n",
       "    .dataframe tbody tr th:only-of-type {\n",
       "        vertical-align: middle;\n",
       "    }\n",
       "\n",
       "    .dataframe tbody tr th {\n",
       "        vertical-align: top;\n",
       "    }\n",
       "\n",
       "    .dataframe thead th {\n",
       "        text-align: right;\n",
       "    }\n",
       "</style>\n",
       "<table border=\"1\" class=\"dataframe\">\n",
       "  <thead>\n",
       "    <tr style=\"text-align: right;\">\n",
       "      <th></th>\n",
       "      <th>ENGINE SIZE (L)</th>\n",
       "      <th>CYLINDERS</th>\n",
       "      <th>COMB (L/100 km)</th>\n",
       "      <th>CO2 EMISSIONS (g/km)</th>\n",
       "    </tr>\n",
       "  </thead>\n",
       "  <tbody>\n",
       "    <tr>\n",
       "      <th>0</th>\n",
       "      <td>1.6</td>\n",
       "      <td>4.0</td>\n",
       "      <td>8.1</td>\n",
       "      <td>186.0</td>\n",
       "    </tr>\n",
       "    <tr>\n",
       "      <th>1</th>\n",
       "      <td>1.6</td>\n",
       "      <td>4.0</td>\n",
       "      <td>7.6</td>\n",
       "      <td>175.0</td>\n",
       "    </tr>\n",
       "    <tr>\n",
       "      <th>2</th>\n",
       "      <td>3.2</td>\n",
       "      <td>6.0</td>\n",
       "      <td>10.0</td>\n",
       "      <td>230.0</td>\n",
       "    </tr>\n",
       "    <tr>\n",
       "      <th>3</th>\n",
       "      <td>3.5</td>\n",
       "      <td>6.0</td>\n",
       "      <td>11.5</td>\n",
       "      <td>264.0</td>\n",
       "    </tr>\n",
       "    <tr>\n",
       "      <th>4</th>\n",
       "      <td>1.8</td>\n",
       "      <td>4.0</td>\n",
       "      <td>8.6</td>\n",
       "      <td>198.0</td>\n",
       "    </tr>\n",
       "  </tbody>\n",
       "</table>\n",
       "</div>"
      ],
      "text/plain": [
       "   ENGINE SIZE (L)  CYLINDERS  COMB (L/100 km)  CO2 EMISSIONS (g/km)\n",
       "0              1.6        4.0              8.1                 186.0\n",
       "1              1.6        4.0              7.6                 175.0\n",
       "2              3.2        6.0             10.0                 230.0\n",
       "3              3.5        6.0             11.5                 264.0\n",
       "4              1.8        4.0              8.6                 198.0"
      ]
     },
     "execution_count": 5,
     "metadata": {},
     "output_type": "execute_result"
    }
   ],
   "source": [
    "df.drop([df.columns[-2]],axis=1,inplace=True) #Dropping the mpg column\n",
    "cdf = df[df.columns[[4,5,-2,-1]]] #Choosing the predictors and the response\n",
    "cdf.head()"
   ]
  },
  {
   "cell_type": "markdown",
   "metadata": {},
   "source": [
    "## Exploring the Data"
   ]
  },
  {
   "cell_type": "code",
   "execution_count": 6,
   "metadata": {},
   "outputs": [
    {
     "data": {
      "image/png": "[encoded data removed]",
      "text/plain": [
       "<Figure size 432x288 with 4 Axes>"
      ]
     },
     "metadata": {
      "needs_background": "light"
     },
     "output_type": "display_data"
    }
   ],
   "source": [
    "cdf.hist()\n",
    "#Exploring the data\n",
    "plt.tight_layout()"
   ]
  },
  {
   "cell_type": "code",
   "execution_count": 7,
   "metadata": {},
   "outputs": [
    {
     "data": {
      "image/png": "[encoded data removed]",
      "text/plain": [
       "<Figure size 864x288 with 3 Axes>"
      ]
     },
     "metadata": {
      "needs_background": "light"
     },
     "output_type": "display_data"
    }
   ],
   "source": [
    "#Exploring the trends in the data\n",
    "fig,ax = plt.subplots(nrows=1,ncols=3,figsize=(12,4))\n",
    "for i,item in enumerate(cdf.columns[:-1]):\n",
    "    ax[i].scatter(cdf[item],cdf['CO2 EMISSIONS (g/km)'])\n",
    "    ax[i].set_xlabel(item)\n",
    "    ax[i].set_ylabel('CO2 Emissions in g/km')\n",
    "plt.tight_layout()"
   ]
  },
  {
   "cell_type": "code",
   "execution_count": 8,
   "metadata": {},
   "outputs": [
    {
     "name": "stderr",
     "output_type": "stream",
     "text": [
      "H:\\Anaconda3\\lib\\site-packages\\ipykernel_launcher.py:1: SettingWithCopyWarning: \n",
      "A value is trying to be set on a copy of a slice from a DataFrame\n",
      "\n",
      "See the caveats in the documentation: https://pandas.pydata.org/pandas-docs/stable/user_guide/indexing.html#returning-a-view-versus-a-copy\n",
      "  \"\"\"Entry point for launching an IPython kernel.\n"
     ]
    },
    {
     "data": {
      "text/plain": [
       "14253"
      ]
     },
     "execution_count": 8,
     "metadata": {},
     "output_type": "execute_result"
    }
   ],
   "source": [
    "cdf.dropna(inplace=True)\n",
    "len(cdf)"
   ]
  },
  {
   "cell_type": "code",
   "execution_count": 9,
   "metadata": {},
   "outputs": [],
   "source": [
    "# Train Test split\n",
    "bool1 = np.random.rand(len(cdf))<0.8\n",
    "train = cdf[bool1]\n",
    "test = cdf[~bool1]"
   ]
  },
  {
   "cell_type": "markdown",
   "metadata": {},
   "source": [
    "### Simple Linear Regression"
   ]
  },
  {
   "cell_type": "code",
   "execution_count": 10,
   "metadata": {},
   "outputs": [],
   "source": [
    "from sklearn.metrics import r2_score"
   ]
  },
  {
   "cell_type": "code",
   "execution_count": 11,
   "metadata": {},
   "outputs": [
    {
     "name": "stdout",
     "output_type": "stream",
     "text": [
      "ENGINE SIZE (L) vs CO2\n",
      "Coeffecient:  [37.05481457] Intercept:  119.94198102454084\n",
      "R^2:  0.6783400989576359\n",
      "CYLINDERS vs CO2\n",
      "Coeffecient:  [26.35998909] Intercept:  90.87561614529886\n",
      "R^2:  0.6365600582972524\n",
      "COMB (L/100 km) vs CO2\n",
      "Coeffecient:  [18.17873355] Intercept:  47.09699316252471\n",
      "R^2:  0.8462992089141452\n"
     ]
    },
    {
     "data": {
      "image/png": "[encoded data removed]",
      "text/plain": [
       "<Figure size 864x288 with 3 Axes>"
      ]
     },
     "metadata": {
      "needs_background": "light"
     },
     "output_type": "display_data"
    }
   ],
   "source": [
    "from sklearn.linear_model import LinearRegression\n",
    "fig,ax = plt.subplots(nrows=1,ncols=3,figsize=(12,4))\n",
    "lm = LinearRegression()\n",
    "for i,item in enumerate(train.columns[:-1]):\n",
    "    train_x = np.array(train[item]).reshape(-1,1)\n",
    "    train_y = np.array(train['CO2 EMISSIONS (g/km)'])\n",
    "    lm.fit(train_x,train_y)\n",
    "    print(item,'vs','CO2')\n",
    "    print('Coeffecient: ',lm.coef_,'Intercept: ',lm.intercept_)\n",
    "    test_x = np.array(test[item]).reshape(-1,1)\n",
    "    test_y_hat = lm.predict(test_x)\n",
    "    test_y = np.array(test['CO2 EMISSIONS (g/km)'])\n",
    "    r = r2_score(test_y,test_y_hat)\n",
    "    print('R^2: ',r)\n",
    "    train_y_hat = lm.predict(train_x)\n",
    "    ax[i].plot(train_x,train_y_hat,'r')\n",
    "    ax[i].scatter(train_x,train_y)\n",
    "    ax[i].set_xlabel(item)\n",
    "    ax[i].set_ylabel(\"CO2 Emissions in g/km\")\n",
    "plt.tight_layout()"
   ]
  },
  {
   "cell_type": "markdown",
   "metadata": {},
   "source": [
    "### Polynomial Regression\n",
    "From the graph above, it is evident that a non-linear model would fit better when Engine size is used as the predictor."
   ]
  },
  {
   "cell_type": "code",
   "execution_count": 12,
   "metadata": {},
   "outputs": [],
   "source": [
    "from sklearn.preprocessing import PolynomialFeatures"
   ]
  },
  {
   "cell_type": "code",
   "execution_count": 13,
   "metadata": {},
   "outputs": [
    {
     "name": "stdout",
     "output_type": "stream",
     "text": [
      "Coefficients:  [ 0.         61.27578571 -3.17657329] Intercept:  79.62267276515888\n",
      "R^2:  0.6836554811675806\n"
     ]
    },
    {
     "data": {
      "text/plain": [
       "[<matplotlib.lines.Line2D at 0x21c75fa1bc8>]"
      ]
     },
     "execution_count": 13,
     "metadata": {},
     "output_type": "execute_result"
    },
    {
     "data": {
      "image/png": "[encoded data removed]",
      "text/plain": [
       "<Figure size 432x288 with 1 Axes>"
      ]
     },
     "metadata": {
      "needs_background": "light"
     },
     "output_type": "display_data"
    }
   ],
   "source": [
    "#Transforming\n",
    "poly = PolynomialFeatures(degree=2)\n",
    "train_x_2 = poly.fit_transform(np.array(train['ENGINE SIZE (L)']).reshape(-1,1))\n",
    "\n",
    "#Fitting\n",
    "lm2 = LinearRegression()\n",
    "lm2.fit(train_x_2,train['CO2 EMISSIONS (g/km)'])\n",
    "print('Coefficients: ',lm2.coef_,'Intercept: ',lm2.intercept_)\n",
    "\n",
    "#Testing\n",
    "test_x_2 = poly.fit_transform(np.array(test['ENGINE SIZE (L)']).reshape(-1,1))\n",
    "test_y_hat = lm2.predict(test_x_2)\n",
    "print('R^2: ',r2_score(test['CO2 EMISSIONS (g/km)'],test_y_hat))\n",
    "\n",
    "#Plotting\n",
    "x = np.linspace(np.array(train['ENGINE SIZE (L)']).min(),np.array(train['ENGINE SIZE (L)']).max(),100)\n",
    "x_2 = poly.fit_transform(x.reshape(-1,1))\n",
    "train_y_hat = lm2.predict(x_2)\n",
    "plt.scatter(np.array(train['ENGINE SIZE (L)']),train['CO2 EMISSIONS (g/km)'])\n",
    "plt.plot(x,train_y_hat,'r')\n",
    "plt.xlabel('ENGINE SIZE (L)')\n",
    "plt.ylabel('CO2 EMISSIONS (g/km)')"
   ]
  },
  {
   "cell_type": "markdown",
   "metadata": {},
   "source": [
    "# Report\n",
    "There seems to be a linear relation between CO2 Emissions and the number of cyclinders in the vehicle's engine. CO2 emissions also exhibits a linear relationship with the inverse mileage of a vehicle (L/Km).\n",
    "\n",
    "We observe a non-linear relationship with the capacity of the Engine of the vehicle where the average rate of increase of emissions per litre of engine size, appears to plateau near large engine sizes."
   ]
  },
  {
   "cell_type": "code",
   "execution_count": null,
   "metadata": {},
   "outputs": [],
   "source": []
  }
 ],
 "metadata": {
  "kernelspec": {
   "display_name": "Python 3",
   "language": "python",
   "name": "python3"
  },
  "language_info": {
   "codemirror_mode": {
    "name": "ipython",
    "version": 3
   },
   "file_extension": ".py",
   "mimetype": "text/x-python",
   "name": "python",
   "nbconvert_exporter": "python",
   "pygments_lexer": "ipython3",
   "version": "3.7.6"
  }
 },
 "nbformat": 4,
 "nbformat_minor": 4
}
